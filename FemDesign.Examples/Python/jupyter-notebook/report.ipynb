{
 "cells": [
  {
   "cell_type": "markdown",
   "id": "7cff591c-4a4e-4a1d-a1d4-536e023c56cd",
   "metadata": {},
   "source": [
    "<img src=\"preview.png\" alt=\"truss\" style=\"width: 600px;\"/>"
   ]
  },
  {
   "cell_type": "code",
   "execution_count": 1,
   "id": "d622166f-84c0-4b7c-a465-cc412172c971",
   "metadata": {},
   "outputs": [],
   "source": [
    "from femdesign.comunication import FemDesignConnection\n",
    "from femdesign.calculate.analysis import Analysis\n",
    "import pandas as pd"
   ]
  },
  {
   "cell_type": "code",
   "execution_count": 2,
   "id": "10ab8974-39af-4a9b-ba59-4b5d517d28b7",
   "metadata": {},
   "outputs": [],
   "source": [
    "pipe = FemDesignConnection(minimized= True)"
   ]
  },
  {
   "cell_type": "code",
   "execution_count": 3,
   "id": "6f564f43-ea6e-4b58-9334-a3754e7e03ff",
   "metadata": {},
   "outputs": [],
   "source": [
    "pipe.Open(\"model.str\")"
   ]
  },
  {
   "cell_type": "code",
   "execution_count": 4,
   "id": "73be8725-5a8a-4abc-b718-cab8ff2bacd7",
   "metadata": {},
   "outputs": [],
   "source": [
    "static_analysis = Analysis.StaticAnalysis()\n",
    "pipe.RunAnalysis(static_analysis)\n",
    "\n",
    "freq_analysis = Analysis.FrequencyAnalysis(num_shapes=5)\n",
    "pipe.RunAnalysis(freq_analysis)"
   ]
  },
  {
   "cell_type": "code",
   "execution_count": 6,
   "id": "62a20af5-07ba-4a97-9fa3-c074a2aa16a5",
   "metadata": {},
   "outputs": [],
   "source": [
    "pipe.GenerateListTables(r\"bsc/comb-nodal-displacements.bsc\", r\"results/comb-displacement.csv\")\n",
    "pipe.GenerateListTables(r\"bsc/eigenfrequencies.bsc\", r\"results/eigenfrequencies.csv\")\n",
    "pipe.GenerateListTables(r\"bsc/quantity-estimation-steel.bsc\", r\"results/quantity-estimation-steel.csv\")\n",
    "pipe.GenerateListTables(r\"bsc/point-support-reactions.bsc\", r\"results/point-support-reactions.csv\")"
   ]
  },
  {
   "cell_type": "code",
   "execution_count": 8,
   "id": "8e9422d8-f9c4-4013-8fd5-ae24baef7d73",
   "metadata": {},
   "outputs": [],
   "source": [
    "# the results will be saved in the bsc folder as csv files\n",
    "skip_rows = 2\n",
    "\n",
    "eigen_freq = pd.read_csv(r\"results/eigenfrequencies.csv\", skiprows = skip_rows, sep = \"\\t\")\n",
    "comb_disp = pd.read_csv(r\"results/comb-displacement.csv\", skiprows = skip_rows, sep = \"\\t\")\n",
    "quantity = pd.read_csv(r\"results/quantity-estimation-steel.csv\", skiprows = skip_rows, sep = \"\\t\")\n",
    "reaction = pd.read_csv(r\"results/point-support-reactions.csv\", skiprows = skip_rows, sep = \"\\t\")"
   ]
  },
  {
   "cell_type": "code",
   "execution_count": null,
   "id": "d9af97f1-ef9f-4a06-bac9-b0011e93e978",
   "metadata": {},
   "outputs": [],
   "source": [
    "print(eigen_freq)"
   ]
  },
  {
   "cell_type": "code",
   "execution_count": null,
   "id": "e2ba0029-cb7d-4b21-a6b5-2f389f7357e7",
   "metadata": {},
   "outputs": [],
   "source": [
    "print(comb_disp)"
   ]
  },
  {
   "cell_type": "code",
   "execution_count": null,
   "id": "910478b6-1607-45a3-9123-06da8710466c",
   "metadata": {},
   "outputs": [],
   "source": [
    "print(quantity)"
   ]
  },
  {
   "cell_type": "code",
   "execution_count": null,
   "id": "673e53c8-0d51-47a3-b0d5-4f167beaed6b",
   "metadata": {},
   "outputs": [],
   "source": [
    "print(reaction)"
   ]
  },
  {
   "cell_type": "code",
   "execution_count": null,
   "id": "66e83a25-c375-4ad7-ae94-08dd09772d52",
   "metadata": {},
   "outputs": [],
   "source": []
  }
 ],
 "metadata": {
  "kernelspec": {
   "display_name": "Python 3 (ipykernel)",
   "language": "python",
   "name": "python3"
  },
  "language_info": {
   "codemirror_mode": {
    "name": "ipython",
    "version": 3
   },
   "file_extension": ".py",
   "mimetype": "text/x-python",
   "name": "python",
   "nbconvert_exporter": "python",
   "pygments_lexer": "ipython3",
   "version": "3.12.2"
  }
 },
 "nbformat": 4,
 "nbformat_minor": 5
}
